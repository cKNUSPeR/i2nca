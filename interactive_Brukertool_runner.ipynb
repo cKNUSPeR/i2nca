{
 "cells": [
  {
   "cell_type": "markdown",
   "source": [
    "# Conversing BRUKER fiels to the imzML file type with i2nca"
   ],
   "metadata": {
    "collapsed": false,
    "pycharm": {
     "name": "#%% md\n"
    }
   }
  },
  {
   "cell_type": "markdown",
   "source": [
    "With this notebook, Files from the Bruker timsTOF Flex (TTF) Instrument can be  converted into imzML files.\n",
    "The TTF produces two different files:\n",
    "\n",
    "- **tdf** Files:\n",
    "The .tdf files are produces when TIMS-ON measurements are performed. The data is only recorded as centroids. THe conversion removed the TIMS-dimension, due to the incompatibility with the imzML format.\n",
    "Te files are converted to processed centroids.\n",
    "\n",
    "- **tsf** Files:\n",
    "When using TIMS-OFF measurements, files with the .tsf data type are obtained. They contain profile data.\\\n",
    "These data sre converted to processed profile data."
   ],
   "metadata": {
    "collapsed": false,
    "pycharm": {
     "name": "#%% md\n"
    }
   }
  },
  {
   "cell_type": "markdown",
   "source": [
    "# A very short introduction to jupyter\n",
    "If you are not familiar with jupyter notebooks, they are a really cool way how to make code accessible for people with little to no experience in coding. Please think of this as a nice text document that allows you to send some defined code boxes into a happy place where they get taken care of.\n",
    "Everything inside this document is organized in cells. Some cells contain a special kind of text (markdown) and some contain python code.\n",
    "All you need to do is to \"run\" a cell to make the code inside do its funky stuff. You can do this ususally by hitting a play-button in the upper menu (it should say \"Run Cell or Execute Cell\") or by right-clicking a cell and using the \"Run / Execute / ...\" statement."
   ],
   "metadata": {
    "collapsed": false,
    "pycharm": {
     "name": "#%% md\n"
    }
   }
  },
  {
   "cell_type": "markdown",
   "source": [
    "### Installation and prerequisites\n",
    "\n",
    "The usage of the Brukertools module required a specialized installation procedure documented  in the dedicated [i2nca@brukertools git](https://github.com/cKNUSPeR/i2nca/tree/brukertools).\n",
    "In short, three steps need to be performed:\n",
    "- A special installation of [i2nca](https://github.com/cKNUSPeR/i2nca/tree/brukertools)\n",
    "- The download of the BRUKER [TDF-SDK](https://www.bruker.com/protected/en/services/software-downloads/mass-spectrometry/raw-data-access-libraries.html)\n",
    "- The placement of the .dll and .lib files at the fiolder of the virtual python executable (details are n the github page)\n",
    "\n",
    "After this is done, run the folloing code"
   ],
   "metadata": {
    "collapsed": false,
    "pycharm": {
     "name": "#%% md\n"
    }
   }
  },
  {
   "cell_type": "code",
   "execution_count": null,
   "outputs": [],
   "source": [
    "import i2nca as i2"
   ],
   "metadata": {
    "collapsed": false,
    "pycharm": {
     "name": "#%%\n",
     "is_executing": true
    }
   }
  },
  {
   "cell_type": "markdown",
   "source": [
    "## Convert tsf data to processed profile\n",
    "\n",
    "Declare where the file that you want to convert is and where the output location should be."
   ],
   "metadata": {
    "collapsed": false,
    "pycharm": {
     "name": "#%% md\n"
    }
   }
  },
  {
   "cell_type": "code",
   "execution_count": null,
   "outputs": [],
   "source": [
    "file_path = \".../path/to/.../file/location/\" # only the file directory where the analysis.tsf file is located\n",
    "\n",
    "output_path = r\".../path/to/.../filename\" # path and filename of imzML file that should be created"
   ],
   "metadata": {
    "collapsed": false,
    "pycharm": {
     "name": "#%%\n"
    }
   }
  },
  {
   "cell_type": "code",
   "execution_count": null,
   "outputs": [],
   "source": [
    "i2.convert_tsf_to_pp_imzml(file_path, output_path)"
   ],
   "metadata": {
    "collapsed": false,
    "pycharm": {
     "name": "#%%\n"
    }
   }
  },
  {
   "cell_type": "markdown",
   "source": [
    "## Convert tdf data to processed centroids\n",
    "Declare where the file that you want to convert is and where the output location should be."
   ],
   "metadata": {
    "collapsed": false,
    "pycharm": {
     "name": "#%% md\n"
    }
   }
  },
  {
   "cell_type": "code",
   "execution_count": null,
   "outputs": [],
   "source": [
    "file_path = \".../path/to/.../file/location/\" # only the file directory where the analysis.tdf file is located\n",
    "\n",
    "output_path = r\".../path/to/.../filename\" # path and filename of imzML file that should be created"
   ],
   "metadata": {
    "collapsed": false,
    "pycharm": {
     "name": "#%%\n"
    }
   }
  },
  {
   "cell_type": "code",
   "execution_count": null,
   "outputs": [],
   "source": [
    "i2.convert_tdf_to_pc_imzml(file_path, output_path)"
   ],
   "metadata": {
    "collapsed": false,
    "pycharm": {
     "name": "#%%\n"
    }
   }
  }
 ],
 "metadata": {
  "kernelspec": {
   "display_name": "Python 3",
   "language": "python",
   "name": "python3"
  },
  "language_info": {
   "codemirror_mode": {
    "name": "ipython",
    "version": 2
   },
   "file_extension": ".py",
   "mimetype": "text/x-python",
   "name": "python",
   "nbconvert_exporter": "python",
   "pygments_lexer": "ipython2",
   "version": "2.7.6"
  }
 },
 "nbformat": 4,
 "nbformat_minor": 0
}