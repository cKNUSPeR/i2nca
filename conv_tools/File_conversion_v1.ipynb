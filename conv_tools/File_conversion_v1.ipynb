{
 "cells": [
  {
   "cell_type": "markdown",
   "id": "9638590c-4ca4-458f-9489-2fb42965107d",
   "metadata": {},
   "source": [
    " # Interactively guided file conversion #\n",
    "\n",
    "This notebook is intended to guide you through the conversion of bruker files to imzML files that are useable to the Cardinal Workflow.\n",
    "\n",
    "The suppurted input formats are:\n",
    "* .imzML files\n",
    "* .tsf files (by Bruker TimsTofFlex)\n",
    "\n",
    "The supported output files are\n",
    "* imzML files\n"
   ]
  },
  {
   "cell_type": "markdown",
   "id": "1b21e9c5-4e58-4a0b-9fee-45bc23831082",
   "metadata": {},
   "source": [
    "## Creating a processed profile imzML file ##\n",
    "If you would like to create a processed profile imzML file, run the following code block.\n",
    "You need to adjust the following parameters: \\\n",
    "* `input_dir` : Add the input directory. Keep in mind to replac the \"\\\" character with \"\\\\\". In this directory, both the .tsf and .bin_tsf file should be stored with the name `analysis.tsf`.\n",
    "* `input_dir` : Optional file location to add, if you would like the output to be stored somewhere esle that in the same location. Otherwise, this can be ommitted.\n"
   ]
  },
  {
   "cell_type": "code",
   "execution_count": null,
   "id": "9343ca5d-3ab6-4258-a5b9-64b6d1514725",
   "metadata": {},
   "outputs": [],
   "source": [
    "from tsf_to_proc_prof_imzML import convert_tsf_to_proc_prof_imzml \n",
    "\n",
    "input_dir = \"D:\\\\wittej\\\\data\\\\testdata\\\\original\" # \n",
    "output_dir = \"D:\\\\wittej\\\\data\\\\testdata\\\\\"\n",
    "\n",
    "output_dir = convert_tsf_to_proc_prof_imzml(input_dir, output_dir) # this function also kindly updates the output directory\n",
    "\n",
    "print(f\"File generated at {output_dir}\")"
   ]
  },
  {
   "cell_type": "markdown",
   "id": "acaad9fa-39f7-4800-ab5d-e5ac9cdb5e9d",
   "metadata": {},
   "source": [
    "## Creating a coninous profile imzML file ##\n",
    "\n",
    "We can make an imzML file from the tsf dat that has the same mass axis. This file is smaller, since we only need to save the mass axis once.\n",
    "To do this, we first wan to test is the masses are equally distributed. For this, we check in a set of pixels where data points were measured for each mass (the  `stepsize between pseudo-bin`) and then compare them across the pixels. We use the standard deviation as measure to see how much the data points scatter for each mass (the `std dev within pseudo-bin`).\n",
    "\n",
    "lets check out how these compare first:"
   ]
  },
  {
   "cell_type": "code",
   "execution_count": 1,
   "id": "62241593-b38e-4250-80b7-ccb6d812de64",
   "metadata": {},
   "outputs": [
    {
     "ename": "ModuleNotFoundError",
     "evalue": "No module named 'tsfdata'",
     "output_type": "error",
     "traceback": [
      "\u001b[1;31m---------------------------------------------------------------------------\u001b[0m",
      "\u001b[1;31mModuleNotFoundError\u001b[0m                       Traceback (most recent call last)",
      "Cell \u001b[1;32mIn[1], line 1\u001b[0m\n\u001b[1;32m----> 1\u001b[0m \u001b[38;5;28;01mfrom\u001b[39;00m \u001b[38;5;21;01mtsf_to_cont_prof_imzML\u001b[39;00m \u001b[38;5;28;01mimport\u001b[39;00m tsf_check_spacing, write_tsf_to_cont_prof_imzml\n\u001b[0;32m      3\u001b[0m \u001b[38;5;66;03m# here, we wrtie down the path to our input data (and potentially also where we would like to store it after conversion)\u001b[39;00m\n\u001b[0;32m      4\u001b[0m input_file \u001b[38;5;241m=\u001b[39m \u001b[38;5;124m\"\u001b[39m\u001b[38;5;124mD:\u001b[39m\u001b[38;5;130;01m\\\\\u001b[39;00m\u001b[38;5;124mwittej\u001b[39m\u001b[38;5;130;01m\\\\\u001b[39;00m\u001b[38;5;124mdata\u001b[39m\u001b[38;5;130;01m\\\\\u001b[39;00m\u001b[38;5;124mTonsille.d\u001b[39m\u001b[38;5;124m\"\u001b[39m\n",
      "File \u001b[1;32mD:\\programs\\mzWonderland\\tsf_to_cont_prof_imzML.py:4\u001b[0m\n\u001b[0;32m      2\u001b[0m \u001b[38;5;124;03m\"\"\"Test program using Python wrapper for timsdata.dll to read tsf (spectrum) data\"\"\"\u001b[39;00m\n\u001b[0;32m      3\u001b[0m \u001b[38;5;66;03m# this script converts .tsf data into profile processed imzML files\u001b[39;00m\n\u001b[1;32m----> 4\u001b[0m \u001b[38;5;28;01mimport\u001b[39;00m \u001b[38;5;21;01msys\u001b[39;00m\u001b[38;5;241m,\u001b[39m \u001b[38;5;21;01mtsfdata\u001b[39;00m\u001b[38;5;241m,\u001b[39m \u001b[38;5;21;01msqlite3\u001b[39;00m\n\u001b[0;32m      5\u001b[0m \u001b[38;5;28;01mimport\u001b[39;00m \u001b[38;5;21;01mnumpy\u001b[39;00m \u001b[38;5;28;01mas\u001b[39;00m \u001b[38;5;21;01mnp\u001b[39;00m\n\u001b[0;32m      6\u001b[0m \u001b[38;5;28;01mfrom\u001b[39;00m \u001b[38;5;21;01mpyimzml\u001b[39;00m\u001b[38;5;21;01m.\u001b[39;00m\u001b[38;5;21;01mImzMLWriter\u001b[39;00m \u001b[38;5;28;01mimport\u001b[39;00m ImzMLWriter\n",
      "\u001b[1;31mModuleNotFoundError\u001b[0m: No module named 'tsfdata'"
     ]
    }
   ],
   "source": [
    "from tsf_to_cont_prof_imzML import tsf_check_spacing, write_tsf_to_cont_prof_imzml\n",
    "\n",
    "# here, we wrtie down the path to our input data (and potentially also where we would like to store it after conversion)\n",
    "input_file = \"D:\\\\wittej\\\\data\\\\Tonsille.d\"\n",
    "output_dir = \"D:\\\\wittej\\\\data\\\\tonsille_conv\"\n",
    "\n",
    "# this line of code gives us a graphical output of the mass scattering comparison. Additionally, an array of averaged masses is also stored\n",
    "averaged_bins = tsf_check_spacing(input_file)"
   ]
  },
  {
   "cell_type": "markdown",
   "id": "625f158f-364a-40c3-905f-9404553f2ec9",
   "metadata": {},
   "source": [
    "The graphic we obtain by running the line of code above this compares the discrepancy of pseudo-bin spreading. \n",
    "We define a pseudo-bin as a group of aquisition points in the mz range of the instrument (e.g the recorded masses for one pixel at {249.08334 249.16667 249.25001 ...} ).\n",
    "then we compare the stepsize of each pseudobin with their respective spread accross different pixels (e.g. the masses around 249.16667 for the pixels might vary by a small amount.\n",
    "\n",
    "If the `stepsize between pseudo-bin` is significantly larger than the `std dev within pseudo-bin`, we can assume that our accuisition produced data of such a high reproducibility between pixels inside a run that these can be assumed as continous. We can then continue with writing them and using the average mass axis as refence. "
   ]
  },
  {
   "cell_type": "code",
   "execution_count": null,
   "id": "bdef9963-78dc-46d6-b7bb-77c5f5d0dd44",
   "metadata": {},
   "outputs": [],
   "source": [
    "from tsf_to_cont_prof_imzML import write_tsf_to_cont_prof_imzml\n",
    "output_file = write_tsf_to_cont_prof_imzml(input_file, averaged_bins, output_dir=output_dir)\n",
    "\n",
    "\n",
    "print(f\"File generated at {output_file}\")"
   ]
  },
  {
   "cell_type": "code",
   "execution_count": null,
   "id": "4db48417-cd8c-4ee5-8103-ddbb5d96d268",
   "metadata": {},
   "outputs": [],
   "source": []
  },
  {
   "cell_type": "code",
   "execution_count": null,
   "id": "bcee5243-cfad-4103-b72a-62a5adf2d536",
   "metadata": {},
   "outputs": [],
   "source": [
    "from tsf_to_cont_prof_imzML import imzML_check_spacing, write_imzML_to_cont_prof_imzml\n",
    "\n",
    "input_file = \"D:\\\\wittej\\\\data\\\\minidata\\\\S042_Processed_imzML\\\\S042_Processed.imzML\"\n",
    "output_dir = \"D:\\\\wittej\\\\data\\\\minidata\\\\S042_Processed_imzML\\\\\"\n",
    "\n",
    "\n",
    "averaged_bins = imzML_check_spacing(input_file)"
   ]
  },
  {
   "cell_type": "code",
   "execution_count": null,
   "id": "9f387c6c-fc68-4a7e-95e8-5b7393c85975",
   "metadata": {},
   "outputs": [],
   "source": [
    "# check if the graph looked good\n",
    "\n",
    "output_file = write_imzML_to_cont_prof_imzML(input_file, averaged_bins,\n",
    "                                             polarity=\"positive\", pixel_size=\"50\", output_dir=output_dir)\n",
    "\n",
    "\n",
    "print(f\"File generated at {output_dir}\")"
   ]
  },
  {
   "cell_type": "code",
   "execution_count": null,
   "id": "8302d3d1-4231-4ba4-8d38-cdaf95edbbd0",
   "metadata": {},
   "outputs": [],
   "source": []
  },
  {
   "cell_type": "code",
   "execution_count": null,
   "id": "9a651e17-0b13-4222-922c-38c098a1bd9f",
   "metadata": {},
   "outputs": [],
   "source": []
  },
  {
   "cell_type": "code",
   "execution_count": null,
   "id": "7eb99e23-f124-493c-99ed-2e113bd0779e",
   "metadata": {},
   "outputs": [],
   "source": []
  },
  {
   "cell_type": "code",
   "execution_count": null,
   "id": "f61cf6fd-c7c8-45cd-8bac-95efc9374b04",
   "metadata": {},
   "outputs": [],
   "source": []
  },
  {
   "cell_type": "code",
   "execution_count": null,
   "id": "b797ae5b-1c7e-4843-b512-e60a49b5cc14",
   "metadata": {},
   "outputs": [],
   "source": []
  },
  {
   "cell_type": "code",
   "execution_count": null,
   "id": "9c4ceef7-ed5b-4926-8c5e-7e8aaedeaed1",
   "metadata": {},
   "outputs": [],
   "source": []
  },
  {
   "cell_type": "code",
   "execution_count": null,
   "id": "78a1a6db-c634-4860-b022-183ee7552cac",
   "metadata": {},
   "outputs": [],
   "source": []
  },
  {
   "cell_type": "code",
   "execution_count": null,
   "id": "bf673dc5-1eeb-439a-8a6d-feebb0cd5ff5",
   "metadata": {},
   "outputs": [],
   "source": []
  },
  {
   "cell_type": "code",
   "execution_count": null,
   "id": "daf9d6cf-a026-4717-af97-01b0da588406",
   "metadata": {},
   "outputs": [],
   "source": []
  },
  {
   "cell_type": "code",
   "execution_count": null,
   "id": "dc15e834-a540-436c-86c6-b007979c7f82",
   "metadata": {},
   "outputs": [],
   "source": []
  },
  {
   "cell_type": "code",
   "execution_count": null,
   "id": "e653910b-4835-470f-b209-72b1385baeb9",
   "metadata": {},
   "outputs": [],
   "source": []
  },
  {
   "cell_type": "code",
   "execution_count": null,
   "id": "9f9905ee-bc05-4b3a-b6b3-6ee9df7546f9",
   "metadata": {},
   "outputs": [],
   "source": []
  },
  {
   "cell_type": "code",
   "execution_count": null,
   "id": "94ab4c6d-efe7-4f91-84e4-285ff40741ed",
   "metadata": {},
   "outputs": [],
   "source": []
  },
  {
   "cell_type": "code",
   "execution_count": null,
   "id": "fd85f641-0986-424e-99ca-a918430d2ff9",
   "metadata": {},
   "outputs": [],
   "source": []
  }
 ],
 "metadata": {
  "kernelspec": {
   "display_name": "Python 3 (ipykernel)",
   "language": "python",
   "name": "python3"
  },
  "language_info": {
   "codemirror_mode": {
    "name": "ipython",
    "version": 3
   },
   "file_extension": ".py",
   "mimetype": "text/x-python",
   "name": "python",
   "nbconvert_exporter": "python",
   "pygments_lexer": "ipython3",
   "version": "3.10.12"
  }
 },
 "nbformat": 4,
 "nbformat_minor": 5
}
