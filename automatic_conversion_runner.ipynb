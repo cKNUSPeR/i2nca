{
 "cells": [
  {
   "cell_type": "markdown",
   "source": [
    "# Conversing imzML files with i2nca"
   ],
   "metadata": {
    "collapsed": false,
    "pycharm": {
     "name": "#%% md\n"
    }
   }
  },
  {
   "cell_type": "markdown",
   "source": [
    "With this notebook, imzML files can be converted into other .imzML file types.\n",
    "The focus on this notebook is the pipeable application of the function in i2nca to obtain a very short and almost bash-able code that quickly converts imzML files. A more explained and in-detail version of the conversion can be found in the \"interactive_conversion_runner\" Notebook."
   ],
   "metadata": {
    "collapsed": false,
    "pycharm": {
     "name": "#%% md\n"
    }
   }
  },
  {
   "cell_type": "markdown",
   "source": [
    "### Import statements\n",
    "With this cell, we import the packages required"
   ],
   "metadata": {
    "collapsed": false,
    "pycharm": {
     "name": "#%% md\n"
    }
   }
  },
  {
   "cell_type": "code",
   "execution_count": null,
   "outputs": [],
   "source": [
    "import i2nca as i2"
   ],
   "metadata": {
    "collapsed": false,
    "pycharm": {
     "name": "#%%\n"
    }
   }
  },
  {
   "cell_type": "markdown",
   "source": [
    "Next, we set the file location of the directory where the files are stored and should be created."
   ],
   "metadata": {
    "collapsed": false,
    "pycharm": {
     "name": "#%% md\n"
    }
   }
  },
  {
   "cell_type": "code",
   "execution_count": null,
   "outputs": [],
   "source": [
    "# path to processed Profile file\n",
    "pp_file = \"...path/.../to/.../files/filename_pp.imzML\"\n",
    "\n",
    "# path to output file location\n",
    "wf_dir = \"...path/.../to/.../files/\""
   ],
   "metadata": {
    "collapsed": false,
    "pycharm": {
     "name": "#%%\n"
    }
   }
  },
  {
   "cell_type": "markdown",
   "source": [
    "We convert the file to continuous profile with a given converage"
   ],
   "metadata": {
    "collapsed": false,
    "pycharm": {
     "name": "#%% md\n"
    }
   }
  },
  {
   "cell_type": "code",
   "execution_count": null,
   "outputs": [],
   "source": [
    "cp_file = i2.convert_pp_to_cp_imzml(pp_file,\n",
    "                                    wf_dir,\n",
    "                                    coverage= 0.05)"
   ],
   "metadata": {
    "collapsed": false,
    "pycharm": {
     "name": "#%%\n"
    }
   }
  },
  {
   "cell_type": "markdown",
   "source": [
    "We convert the file to processed centroids with a given detection fucntion (here loc_max_preset)"
   ],
   "metadata": {
    "collapsed": false,
    "pycharm": {
     "name": "#%% md\n"
    }
   }
  },
  {
   "cell_type": "code",
   "execution_count": null,
   "outputs": [],
   "source": [
    "pc_file = i2.convert_profile_to_pc_imzml(cp_file,\n",
    "                                         wf_dir,\n",
    "                                         i2.loc_max_preset)"
   ],
   "metadata": {
    "collapsed": false,
    "pycharm": {
     "name": "#%%\n"
    }
   }
  },
  {
   "cell_type": "markdown",
   "source": [
    "We bin the file to be in continuous centroid format, by a fixed axis of 20 ppm steps."
   ],
   "metadata": {
    "collapsed": false,
    "pycharm": {
     "name": "#%% md\n"
    }
   }
  },
  {
   "cell_type": "code",
   "execution_count": null,
   "outputs": [],
   "source": [
    "cc_file = i2.convert_pc_to_cc_imzml(pc_file,\n",
    "                                    wf_dir,\n",
    "                                    bin_strategy=\"fixed\",\n",
    "                                    bin_accuracy= 20)"
   ],
   "metadata": {
    "collapsed": false,
    "pycharm": {
     "name": "#%%\n"
    }
   }
  }
 ],
 "metadata": {
  "kernelspec": {
   "display_name": "Python 3",
   "language": "python",
   "name": "python3"
  },
  "language_info": {
   "codemirror_mode": {
    "name": "ipython",
    "version": 2
   },
   "file_extension": ".py",
   "mimetype": "text/x-python",
   "name": "python",
   "nbconvert_exporter": "python",
   "pygments_lexer": "ipython2",
   "version": "2.7.6"
  }
 },
 "nbformat": 4,
 "nbformat_minor": 0
}