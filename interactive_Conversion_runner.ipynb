{
 "cells": [
  {
   "cell_type": "markdown",
   "metadata": {
    "pycharm": {
     "name": "#%% md\n"
    }
   },
   "source": [
    "# Convering imzML files with i2nca and m2aia"
   ]
  },
  {
   "cell_type": "markdown",
   "metadata": {
    "pycharm": {
     "name": "#%% md\n"
    }
   },
   "source": [
    "With this notebook, imzML files can be converted into other .imzML file types.\n",
    "There are two different distinctions within imzML files.:\n",
    "\n",
    "- **processed** or **continuous**:\n",
    "This parameter references wheteher the mass axis of all spectra is shared. A shared axis is stored only once, otherwise, each pixel was its own axis.\n",
    " add here ims accesnsions\n",
    " add here ims accesnsions\n",
    "\n",
    "- **profile** or **centroid**:\n",
    "This set of parameters indicates if the spectra are stroed as a line spectra or if each signal in the spectrum is assigned to single centroid. A profile spectrum contains much more datapoints, but also shows the peakshapes. A centroided spectrum reduced a spectral peak to only a single datapoint.\n"
   ]
  },
  {
   "cell_type": "markdown",
   "metadata": {
    "pycharm": {
     "name": "#%% md\n"
    }
   },
   "source": [
    "# Imports\n",
    "\n",
    "Before you can start the QC tools, load the required tools and libraries."
   ]
  },
  {
   "cell_type": "markdown",
   "metadata": {
    "pycharm": {
     "name": "#%% md\n"
    }
   },
   "source": [
    "PLEASE RUN THE CELL BELOW WITHOUT CHANGES"
   ]
  },
  {
   "cell_type": "code",
   "execution_count": 1,
   "metadata": {
    "pycharm": {
     "is_executing": true,
     "name": "#%%\n"
    },
    "vscode": {
     "languageId": "plaintext"
    }
   },
   "outputs": [],
   "source": [
    "# import statements\n",
    "import m2aia as m2\n",
    "from i2nca import report_pp_to_cp_imzml, convert_pp_to_cp_imzml, report_pp_to_cp \n",
    "from i2nca.convtools.conv_tools import write_pp_to_cp_imzml"
   ]
  },
  {
   "cell_type": "markdown",
   "metadata": {
    "pycharm": {
     "name": "#%% md\n"
    }
   },
   "source": [
    "# Processed Profile to Continous Profile\n",
    "\n",
    "Some Mass spectrometers record the data in a very precise manner. Even though the mass data is recorded as a processed spectra, there are only very little technical variations between the mz data points in each spectrum. With the following conversion tool, we can test how large the standard deviation for one of these \"pseudo-bis\" is and how far the mean of two neighbouring \"pseudo-bins\" is spaced.\n",
    "An underlying assuption for this test is that each pixel starts and ends with nearly the same mz value ad has the same number of data points\n",
    "\n",
    "With the following code, we will create a pdf report that checks all our assumptions and plots them. This provides human-readable output whether we should continue with the conversion."
   ]
  },
  {
   "cell_type": "markdown",
   "metadata": {
    "pycharm": {
     "name": "#%% md\n"
    }
   },
   "source": [
    "## Loading a dataset\n",
    "\n",
    "To start a QC, you need to first load the imzML dataset. It needs to be loaded only once for all the"
   ]
  },
  {
   "cell_type": "markdown",
   "metadata": {
    "pycharm": {
     "name": "#%% md\n"
    }
   },
   "source": [
    "THE CELL BELOW NEEDS YOUR INPUT\n",
    "\n",
    "Please change the following  variables in order to load the dataset:\n",
    "- `file_path`: Please provide a path to the imzML file on your machine. It must end with the full filename (`name` and `\".imzML\"`).\\\n",
    "   Using the  `r\"...\"` notation allows to add Windows-style paths without escaping each backslash.\n"
   ]
  },
  {
   "cell_type": "code",
   "execution_count": 3,
   "metadata": {
    "pycharm": {
     "name": "#%%\n"
    }
   },
   "outputs": [],
   "source": [
    "file_path = r\"C:\\Users\\Jannik\\Documents\\Uni\\Master_Biochem\\4_Semester\\M2aia\\data\\minidata\\metabolomics_full_mz_processed_profile.imzML\"\n",
    "I = m2.ImzMLReader(file_path)"
   ]
  },
  {
   "cell_type": "code",
   "execution_count": 6,
   "metadata": {
    "pycharm": {
     "name": "#%%\n"
    }
   },
   "outputs": [
    {
     "data": {
      "text/plain": [
       "{'(original imzML value) [IMS:1000042] max count of pixels x': '1362',\n",
       " '(original imzML value) [IMS:1000043] max count of pixels y': '661',\n",
       " '(original imzML value) max count of pixels z': '1',\n",
       " '[IMS:1000031] processed': 'true',\n",
       " '[IMS:1000042] max count of pixels x': '20',\n",
       " '[IMS:1000043] max count of pixels y': '1',\n",
       " '[IMS:1000044] max dimension x': '27240',\n",
       " '[IMS:1000045] max dimension y': '13220',\n",
       " '[IMS:1000046] pixel size x': '0.02',\n",
       " '[IMS:1000047] pixel size y': '0.02',\n",
       " '[IMS:1000053] absolute position offset x': '0',\n",
       " '[IMS:1000054] absolute position offset y': '0',\n",
       " '[IMS:1000080] universally unique identifier': '{96ECC4EE-124A-4C60-B508-149681281DBB}',\n",
       " '[IMS:1000091] ibd SHA-1': 'E1E8E02AAA7197281BC35970D8874B55DBE811C2',\n",
       " '[IMS:1000101] intensityArray.external data': 'true',\n",
       " '[IMS:1000101] mzArray.external data': 'true',\n",
       " '[IMS:1000401] scanSettings1.top down': 'true',\n",
       " '[IMS:1000410] scanSettings1.meandering': 'true',\n",
       " '[IMS:1000480] scanSettings1.horizontal line scan': 'true',\n",
       " '[IMS:1000490] scanSettings1.linescan right left': 'true',\n",
       " '[MS:1000093] scan1.increasing m/z scan': 'true',\n",
       " '[MS:1000128] profile spectrum': 'true',\n",
       " '[MS:1000128] spectrum1.profile spectrum': 'true',\n",
       " '[MS:1000129] spectrum1.negative scan': 'true',\n",
       " '[MS:1000511] spectrum1.ms level': '0',\n",
       " '[MS:1000512] scan1.filter string': 'true',\n",
       " '[MS:1000514] mzArray.m/z array': 'true',\n",
       " '[MS:1000515] intensityArray.intensity array': 'true',\n",
       " '[MS:1000521] intensityArray.32-bit float': 'true',\n",
       " '[MS:1000523] mzArray.64-bit float': 'true',\n",
       " '[MS:1000530] export_from_pyimzml.processingMethod (0).file format conversion': 'Output to imzML',\n",
       " '[MS:1000576] intensityArray.no compression': 'true',\n",
       " '[MS:1000576] mzArray.no compression': 'true',\n",
       " '[MS:1000579] MS1 spectrum': 'true',\n",
       " '[MS:1000579] spectrum1.MS1 spectrum': 'true',\n",
       " '[MS:1000799] pyimzml 0.0001.custom unreleased software tool': 'pyimzml exporter',\n",
       " 'absolute position offset z': '0',\n",
       " 'm2aia.imzml.format_type': 'processed',\n",
       " 'm2aia.imzml.intensityArray.value_type': '32-bit float',\n",
       " 'm2aia.imzml.intensityArray.value_type_in_bytes': '4',\n",
       " 'm2aia.imzml.intensityGroupID': 'intensityArray',\n",
       " 'm2aia.imzml.mzArray.value_type': '64-bit float',\n",
       " 'm2aia.imzml.mzArray.value_type_in_bytes': '8',\n",
       " 'm2aia.imzml.mzGroupID': 'mzArray',\n",
       " 'm2aia.imzml.spectrum_type': 'profile spectrum',\n",
       " 'm2aia.xs.max': '999.685',\n",
       " 'm2aia.xs.min': '50.3159',\n",
       " 'm2aia.xs.n': '1500',\n",
       " 'max count of pixels z': '1',\n",
       " 'number of measurements': '20',\n",
       " 'pixel size z': '0.01'}"
      ]
     },
     "execution_count": 6,
     "metadata": {},
     "output_type": "execute_result"
    }
   ],
   "source": [
    "md = I.GetMetaData()"
   ]
  },
  {
   "cell_type": "markdown",
   "metadata": {
    "pycharm": {
     "name": "#%% md\n"
    }
   },
   "source": [
    "## Test the conversion method\n",
    "\n",
    "To check if the condinitions we assumed apply, we can test the parsed file. This test creates a pdf file with informative graphics.\n",
    "Convieniently, this fuction also returns the mean mz values for which it tested the pseudo-bin arrangement back to us for further use."
   ]
  },
  {
   "cell_type": "markdown",
   "metadata": {
    "pycharm": {
     "name": "#%% md\n"
    }
   },
   "source": [
    "THE FOLLOWING CELL NEEDS YOUR INPUT\n",
    "\n",
    "Please change the following variables in order to test the imzML file structure:\n",
    "\n",
    "- `output_filepath`: Please provide a path on your machine. The output pdf file will be saved there.\n",
    "\n",
    "- `coverage`: The coverage is a subsetting method for large datasets. A coverage of 0.3 means that the pixels get subsetted amounting to 30% of the full measurent. This allows faster computation for large datasets. For small datasets, the value should be 1.0.\n"
   ]
  },
  {
   "cell_type": "code",
   "execution_count": 11,
   "metadata": {
    "pycharm": {
     "name": "#%%\n"
    },
    "vscode": {
     "languageId": "plaintext"
    }
   },
   "outputs": [
    {
     "name": "stdout",
     "output_type": "stream",
     "text": [
      "report generated at:  D:\\data\\Jannik\\Files_for_minidata\\metabo\\metabolomics_small_mz_processed_profilecontrol_report_pp_to_cp.pdf\n"
     ]
    }
   ],
   "source": [
    "output_filepath = file_path[:-6]\n",
    "\n",
    "coverage = 0.1 # value between 0 and 1\n",
    "\n",
    "reference_mzs = report_pp_to_cp(I, output_filepath, coverage)"
   ]
  },
  {
   "cell_type": "markdown",
   "metadata": {
    "pycharm": {
     "name": "#%% md\n"
    }
   },
   "source": [
    "You can now check at the specified file location how the conversion tests look. If you approve of the data, continue with the following paragraph.\n",
    "\n",
    "<!---\n",
    "Not yet implemented:\n",
    "Otherwise, check a sparce data averaging method (like a clustering of the subsample mz values) to get reference mz values.\n",
    "--> \n",
    "\n"
   ]
  },
  {
   "cell_type": "markdown",
   "metadata": {
    "pycharm": {
     "name": "#%% md\n"
    }
   },
   "source": [
    "## Convert the file\n",
    "\n",
    "With our refernce masses generated, we can create a new imzML file.\n"
   ]
  },
  {
   "cell_type": "markdown",
   "metadata": {
    "pycharm": {
     "name": "#%% md\n"
    }
   },
   "source": [
    "THE FOLLOWING CELL NEEDS YOUR INPUT\n",
    "\n",
    "Please change the following variables in order to test the imzML file structure:\n",
    "\n",
    "- `reference_mzs`: The previously generated set of refenc mz values.\n",
    "\n",
    "- `output_filepath`: A file path to the output imzML file. \n"
   ]
  },
  {
   "cell_type": "code",
   "execution_count": 17,
   "metadata": {
    "pycharm": {
     "name": "#%%\n"
    },
    "vscode": {
     "languageId": "plaintext"
    }
   },
   "outputs": [
    {
     "data": {
      "text/plain": [
       "'D:\\\\data\\\\Jannik\\\\Files_for_minidata\\\\metabo\\\\metabolomics_small_mz_processed_profile_conv_output_cont_profile.imzML'"
      ]
     },
     "execution_count": 17,
     "metadata": {},
     "output_type": "execute_result"
    }
   ],
   "source": [
    "# do the writing\n",
    "write_pp_to_cp_imzml(I, reference_mzs, output_filepath)"
   ]
  },
  {
   "cell_type": "code",
   "execution_count": null,
   "metadata": {
    "pycharm": {
     "name": "#%%\n"
    }
   },
   "outputs": [],
   "source": []
  },
  {
   "cell_type": "markdown",
   "metadata": {
    "pycharm": {
     "name": "#%% md\n"
    }
   },
   "source": [
    "# Workflow application\n",
    "\n",
    "When doing this preprocessing in an automated way for multiple files, the steps mentioned above can be contracted into a single function. Here are two functions that allow a quick and easy access to this conversion.\n",
    "\n",
    "- `report_pp_to_cp_imzml`: (file_path, output_path, coverage)\\\n",
    "This fuction directly cretes the coversion report and uses the generated mz values to write the continous profile file. It takes the following parameters:\n",
    "  - `file_path`: File path of input imzML file\n",
    "  - `output_path` *Optional Parameter*: If specified, the Report and imzML file are created as this path. Else, they are created to the same path of the input file \n",
    "  - `coverage`*Optional Parameter*: Uses a subsample accoding to the percentage provided. Defalus to 25% of the sample if ommitted.\n",
    "\n",
    "<br/>\n",
    "\n",
    "- `convert_pp_to_cp_imzml`: (file_path, output_path, pixel_nr)\\\n",
    "   This function converts the file, but does not test the conversion assuptions or creates a pdf report. It is meant for batch pocesses where a file is already tested.\n",
    "   - `file_path`: File path of input imzML file\n",
    "   - `output_path` *Optional Parameter*: If specified, the imzML file is created as this path. Else, it's created to the same path of the input file.\n",
    "   - `pixel_nr` *Optional Parameter*: The subsample is created with the specified number of pixels. Defaults to 100 if not specified otherwise.\n"
   ]
  },
  {
   "cell_type": "code",
   "execution_count": 19,
   "metadata": {
    "pycharm": {
     "name": "#%%\n"
    }
   },
   "outputs": [],
   "source": [
    "# examples for report_pp_to_cp_imzml\n",
    "\n",
    "file_path = r\"C:\\path\\to\\...\\file\\location\\...\\filename.imzML\"\n",
    "output_path = r\"C:\\path\\to\\...\\output\\file\\location\\...\\output_name\"\n",
    "\n",
    "coverage = 0.1\n",
    "\n",
    "#report_pp_to_cp_imzml(file_path,output_path, coverage)\n",
    "#report_pp_to_cp_imzml(file_path, coverage = 0.5)\n",
    "#report_pp_to_cp_imzml(file_path)"
   ]
  },
  {
   "cell_type": "code",
   "execution_count": 21,
   "metadata": {
    "pycharm": {
     "name": "#%%\n"
    }
   },
   "outputs": [],
   "source": [
    "# examples for convert_pp_to_cp_imzml\n",
    "\n",
    "file_path = r\"C:\\path\\to\\...\\file\\location\\...\\filename.imzML\"\n",
    "output_path = r\"C:\\path\\to\\...\\output\\file\\location\\...\\output_name\"\n",
    "\n",
    "#convert_pp_to_cp_imzml(file_path, output_path, pixel_nr = 150)\n",
    "#convert_pp_to_cp_imzml(file_path, output_path = r\"D:\\path\\to\\file\\testfile\")\n",
    "#convert_pp_to_cp_imzml(file_path)"
   ]
  },
  {
   "cell_type": "code",
   "execution_count": null,
   "metadata": {
    "pycharm": {
     "name": "#%%\n"
    }
   },
   "outputs": [],
   "source": []
  }
 ],
 "metadata": {
  "kernelspec": {
   "display_name": "Python 3 (ipykernel)",
   "language": "python",
   "name": "python3"
  },
  "language_info": {
   "codemirror_mode": {
    "name": "ipython",
    "version": 3
   },
   "file_extension": ".py",
   "mimetype": "text/x-python",
   "name": "python",
   "nbconvert_exporter": "python",
   "pygments_lexer": "ipython3",
   "version": "3.10.12"
  }
 },
 "nbformat": 4,
 "nbformat_minor": 4
}