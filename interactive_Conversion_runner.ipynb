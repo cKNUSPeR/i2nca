{
 "cells": [
  {
   "cell_type": "markdown",
   "metadata": {
    "pycharm": {
     "name": "#%% md\n"
    }
   },
   "source": [
    "# Convering imzML files with i2nca"
   ]
  },
  {
   "cell_type": "markdown",
   "metadata": {
    "pycharm": {
     "name": "#%% md\n"
    }
   },
   "source": [
    "With this notebook, imzML files can be converted into other .imzML file types.\n",
    "There are two different distinctions within imzML files.:\n",
    "\n",
    "- **processed** or **continuous**:\n",
    "This parameter references wheteher the mass axis of all spectra is shared. A shared axis is stored only once, otherwise, each pixel was its own axis.\n",
    " add here ims accesnsions\n",
    " add here ims accesnsions\n",
    "\n",
    "- **profile** or **centroid**:\n",
    "This set of parameters indicates if the spectra are stroed as a line spectra or if each signal in the spectrum is assigned to single centroid. A profile spectrum contains much more datapoints, but also shows the peakshapes. A centroided spectrum reduced a spectral peak to only a single datapoint.\n"
   ]
  },
  {
   "cell_type": "markdown",
   "source": [
    "# A very short introduction to jupyter\n",
    "If you are not familiar with jupyter notebooks, they are a really cool way how to make code accessible for people with little to no experience in coding. Please think of this as a nice text document that allows you to send some defined code boxes into a happy place where they get taken care of.\n",
    "Everything inside this document is organized in cells. Some cells contain a special kind of text (markdown) and some contain python code.\n",
    "All you need to do is to \"run\" a cell to make the code inside do its funky stuff. You can do this ususally by hitting a play-button in the upper menu (it should say \"Run Cell or Execute Cell\") or by right-clicking a cell and using the \"Run / Execute / ...\" statement."
   ],
   "metadata": {
    "collapsed": false,
    "pycharm": {
     "name": "#%% md\n"
    }
   }
  },
  {
   "cell_type": "markdown",
   "source": [
    "# Imports\n",
    "\n",
    "Before you can start the Conversion tools, load the required tools and libraries."
   ],
   "metadata": {
    "collapsed": false,
    "pycharm": {
     "name": "#%% md\n"
    }
   }
  },
  {
   "cell_type": "markdown",
   "metadata": {
    "pycharm": {
     "name": "#%% md\n"
    }
   },
   "source": [
    "PLEASE RUN THE CELL BELOW WITHOUT CHANGES"
   ]
  },
  {
   "cell_type": "code",
   "execution_count": null,
   "outputs": [],
   "source": [
    "# import statements\n",
    "import m2aia as m2\n",
    "from i2nca import report_pp_to_cp,  convert_pc_to_cc_imzml\n",
    "from i2nca import report_prof_to_centroid, write_profile_to_pc_imzml, set_find_peaks"
   ],
   "metadata": {
    "collapsed": false,
    "pycharm": {
     "name": "#%%\n"
    }
   }
  },
  {
   "cell_type": "markdown",
   "source": [
    "# Processed Profile to Continous Profile\n",
    "\n",
    "Some Mass spectrometers record the data in a very precise manner. Even though the mass data is recorded as a processed spectra, there are only very little technical variations between the mz data points between each pixel. These collections of ever-so-slightly varying data points are reffered to as \"pseudo-bins\" in this notebook. With the following conversion tool, we can test how large the standard deviation for one of these \"pseudo-bins\" is and how far the mean of two neighbouring \"pseudo-bins\" is spaced.\n",
    "An underlying assuption for this test is that each pixel starts and ends with nearly the same mz value ad has the same number of data points\n",
    "\n",
    "With the following code, we will create a pdf report that checks all our assumptions and plots them. This provides human-readable output whether we should continue with the conversion.\n",
    "after reading the report, you can then decide if you want to continue the conversion. If the conversion parameters looks very bad, you might skip to the next step of using the centroiding steps."
   ],
   "metadata": {
    "collapsed": false,
    "pycharm": {
     "name": "#%% md\n"
    }
   }
  },
  {
   "cell_type": "markdown",
   "source": [
    "### Loading a dataset\n",
    "\n",
    "To start a conversion, you need to first load the *processed profile* imzML dataset."
   ],
   "metadata": {
    "collapsed": false,
    "pycharm": {
     "name": "#%% md\n"
    }
   }
  },
  {
   "cell_type": "markdown",
   "source": [
    "THE CELL BELOW NEEDS YOUR INPUT\n",
    "\n",
    "Please change the following  variables in order to load the dataset:\n",
    "- `file_path`: Please provide a path to the imzML file on your machine. It must end with the full filename (`name` and `\".imzML\"`).\\\n",
    "   Using the  `r\"...\"` notation allows to add Windows-style paths without escaping each backslash.\n"
   ],
   "metadata": {
    "collapsed": false,
    "pycharm": {
     "name": "#%% md\n"
    }
   }
  },
  {
   "cell_type": "code",
   "execution_count": null,
   "outputs": [],
   "source": [
    "file_path = r\".../path/to/file/.../file-name.imzML\"\n",
    "I = m2.ImzMLReader(file_path)"
   ],
   "metadata": {
    "collapsed": false,
    "pycharm": {
     "name": "#%%\n"
    }
   }
  },
  {
   "cell_type": "markdown",
   "source": [
    "### Creating a report\n",
    "\n",
    "After loading the dataset, we can start the conversion report. It checks if all the parameters assumed for out conversion are as assumed and creates a report for us to look at.\n",
    "In further updates, this evaluation will be performed automatically.\n"
   ],
   "metadata": {
    "collapsed": false,
    "pycharm": {
     "name": "#%% md\n"
    }
   }
  },
  {
   "cell_type": "markdown",
   "metadata": {
    "pycharm": {
     "name": "#%% md\n"
    }
   },
   "source": [
    "THE FOLLOWING CELL NEEDS YOUR INPUT\n",
    "\n",
    "Please change the following variables in order to test the imzML file structure:\n",
    "\n",
    "- `output_filepath`: Please provide a path on your machine. The output pdf file will be saved there. Preset is the input location from the used imzML file.\n",
    "\n",
    "- `coverage`: The coverage is a subsetting method for large datasets. A coverage of 0.3 means that the pixels get subsetted amounting to 30% of the full measurent. This allows faster computation for large datasets. TRy avalue of 0.05 for very large datsets. For small datasets, the value should be 1.0.\n"
   ]
  },
  {
   "cell_type": "code",
   "execution_count": 11,
   "metadata": {
    "pycharm": {
     "name": "#%%\n"
    },
    "vscode": {
     "languageId": "plaintext"
    }
   },
   "outputs": [
    {
     "name": "stdout",
     "output_type": "stream",
     "text": [
      "report generated at:  D:\\data\\Jannik\\Files_for_minidata\\metabo\\metabolomics_small_mz_processed_profilecontrol_report_pp_to_cp.pdf\n"
     ]
    }
   ],
   "source": [
    "output_filepath = file_path[:-6]\n",
    "\n",
    "coverage = 0.1 # value between 0 and 1\n",
    "\n",
    "reference_mzs = report_pp_to_cp(I, output_filepath, coverage)"
   ]
  },
  {
   "cell_type": "markdown",
   "metadata": {
    "pycharm": {
     "name": "#%% md\n"
    }
   },
   "source": [
    "You can now check at the specified file location how the conversion tests look. If you approve of the data, continue with the following paragraph.\n",
    "\n",
    "For now lets check the created figures:\n",
    "The `Number of data points per pixel` should be identical for each pixel.\n",
    "Both the `minimal m/z value per pixel` and the  `minimal m/z value per pixel` should be around the same value. small variations here are okay.\n",
    "The  `Comparison between aquisition-based binning` should show that the mz deviation between two \"pseudo-bins\" should be larger that within a \"pseudo-bin\".\n",
    "\n",
    "<!---\n",
    "Not yet implemented:\n",
    "Otherwise, check a sparce data averaging method (like a clustering of the subsample mz values) to get reference mz values.\n",
    "--> \n",
    "\n"
   ]
  },
  {
   "cell_type": "markdown",
   "metadata": {
    "pycharm": {
     "name": "#%% md\n"
    }
   },
   "source": [
    "### Convert the file to continuous profile\n",
    "\n",
    "With our reference masses generated and the report checked, we can create a new imzML file as a continuous profile file.\n",
    "Afger the cell has finished executing, the newly prepared file is produced."
   ]
  },
  {
   "cell_type": "markdown",
   "metadata": {
    "pycharm": {
     "name": "#%% md\n"
    }
   },
   "source": [
    "PLEASE RUN THE CELL BELOW WITHOUT CHANGES\n"
   ]
  },
  {
   "cell_type": "code",
   "execution_count": null,
   "metadata": {
    "pycharm": {
     "name": "#%%\n",
     "is_executing": true
    },
    "vscode": {
     "languageId": "plaintext"
    }
   },
   "outputs": [],
   "source": [
    "# produce the converted file\n",
    "report_pp_to_cp(I, reference_mzs, output_filepath)"
   ]
  },
  {
   "cell_type": "markdown",
   "source": [
    "# Continous Profile to Processed Centroid\n",
    "\n",
    "In order to obtain a Centroid file, we need to perform peak detection on each pixel to reduce each peak to a single \"centroid\" signal. This greatly reduces the file size.\n",
    "This can be either perfromed on Continuous files or Processed files.\n",
    "\n",
    "For any peak detection algorithm to run, we need to determine with that parameters this is done. To aid the desicion-making, i2nca provides a report function that creates some informative graphics as a pdf.\n",
    "After checking this report, you can decide how to move forward."
   ],
   "metadata": {
    "collapsed": false,
    "pycharm": {
     "name": "#%% md\n"
    }
   }
  },
  {
   "cell_type": "markdown",
   "source": [
    "### Loading a dataset\n",
    "\n",
    "To start a conversion, you need to first load the *processed profile* imzML dataset."
   ],
   "metadata": {
    "collapsed": false,
    "pycharm": {
     "name": "#%% md\n"
    }
   }
  },
  {
   "cell_type": "markdown",
   "source": [
    "\n",
    "THE CELL BELOW NEEDS YOUR INPUT\n",
    "\n",
    "Please change the following  variables in order to load the dataset:\n",
    "- `file_path`: Please provide a path to the imzML file on your machine. It must end with the full filename (`name` and `\".imzML\"`).\\\n",
    "   Using the  `r\"...\"` notation allows to add Windows-style paths without escaping each backslash.\n",
    "- `output_filepath`: Please provide a path on your machine. The output pdf file will be saved there. Preset is the input location from the used imzML file."
   ],
   "metadata": {
    "collapsed": false,
    "pycharm": {
     "name": "#%% md\n"
    }
   }
  },
  {
   "cell_type": "code",
   "execution_count": null,
   "outputs": [],
   "source": [
    "file_path = r\".../path/to/file/.../file-name.imzML\"\n",
    "I = m2.ImzMLReader(file_path)\n",
    "\n",
    "output_filepath = file_path[:-6]"
   ],
   "metadata": {
    "collapsed": false,
    "pycharm": {
     "name": "#%%\n"
    }
   }
  },
  {
   "cell_type": "markdown",
   "source": [
    "### Creating a report\n",
    "\n",
    "After loading the dataset, we can start the conversion report. In this report, take a look at the graphics created on the mean spectrum to help you decide how to parametrize a peak detection function.\n",
    "In further updates, this evaluation will be given to you automatically."
   ],
   "metadata": {
    "collapsed": false,
    "pycharm": {
     "name": "#%% md\n"
    }
   }
  },
  {
   "cell_type": "code",
   "execution_count": null,
   "outputs": [],
   "source": [
    "report_prof_to_centroid(I, output_filepath)"
   ],
   "metadata": {
    "collapsed": false,
    "pycharm": {
     "name": "#%%\n"
    }
   }
  },
  {
   "cell_type": "markdown",
   "source": [
    "### Convert the file to continuous profile\n",
    "\n",
    "With our reference masses generated and the report checked, we can create a new imzML file as a continuous profile file.\n",
    "Afger the cell has finished executing, the newly prepared file is produced."
   ],
   "metadata": {
    "collapsed": false,
    "pycharm": {
     "name": "#%% md\n"
    }
   }
  },
  {
   "cell_type": "code",
   "execution_count": null,
   "outputs": [],
   "source": [],
   "metadata": {
    "collapsed": false,
    "pycharm": {
     "name": "#%%\n"
    }
   }
  },
  {
   "cell_type": "code",
   "execution_count": null,
   "outputs": [],
   "source": [],
   "metadata": {
    "collapsed": false,
    "pycharm": {
     "name": "#%%\n"
    }
   }
  },
  {
   "cell_type": "code",
   "execution_count": null,
   "outputs": [],
   "source": [],
   "metadata": {
    "collapsed": false,
    "pycharm": {
     "name": "#%%\n"
    }
   }
  },
  {
   "cell_type": "code",
   "execution_count": null,
   "outputs": [],
   "source": [],
   "metadata": {
    "collapsed": false,
    "pycharm": {
     "name": "#%%\n"
    }
   }
  },
  {
   "cell_type": "markdown",
   "source": [
    "# Processed Centroid to Continous Centroid\n",
    "\n",
    "How to convert from processed centroid to continuous Centroid\n"
   ],
   "metadata": {
    "collapsed": false,
    "pycharm": {
     "name": "#%% md\n"
    }
   }
  },
  {
   "cell_type": "markdown",
   "source": [
    "## Get the file and output path\n",
    "With our refernce masses generated, we can create a new imzML file."
   ],
   "metadata": {
    "collapsed": false,
    "pycharm": {
     "name": "#%% md\n"
    }
   }
  },
  {
   "cell_type": "code",
   "execution_count": null,
   "outputs": [],
   "source": [
    "input_data = r\"C:\\Users\\Jannik\\Documents\\Uni\\Master_Biochem\\4_Semester\\M2aia\\data\\testdata\\testdata_conv_output_cont_profileimzML_conv_output_proc_centroid.imzML\"\n",
    "output = r\"C:\\Users\\Jannik\\Documents\\Uni\\Master_Biochem\\4_Semester\\M2aia\\data\\testdata\\testdata_conv_output_cont_centroid\"\n"
   ],
   "metadata": {
    "collapsed": false,
    "pycharm": {
     "name": "#%%\n"
    }
   }
  },
  {
   "cell_type": "markdown",
   "source": [
    "# choose and execute binning strategy\n",
    "\n",
    "Different binn"
   ],
   "metadata": {
    "collapsed": false,
    "pycharm": {
     "name": "#%% md\n"
    }
   }
  },
  {
   "cell_type": "code",
   "execution_count": null,
   "outputs": [],
   "source": [
    "input_data = r\"C:\\Users\\Jannik\\Documents\\Uni\\Master_Biochem\\4_Semester\\M2aia\\data\\testdata\\testdata_conv_output_cont_profileimzML_conv_output_proc_centroid.imzML\"\n",
    "output = r\"C:\\Users\\Jannik\\Documents\\Uni\\Master_Biochem\\4_Semester\\M2aia\\data\\testdata\\testdata_conv_output_cont_centroid\"\n",
    "# convert data\n",
    "convert_pc_to_cc_imzml(input_data, output, bin_strategy=\"unique\")\n",
    "\n",
    "# expected result\n",
    "result = output + \"_conv_output_cont_centroid.imzML\""
   ],
   "metadata": {
    "collapsed": false,
    "pycharm": {
     "name": "#%%\n"
    }
   }
  },
  {
   "cell_type": "markdown",
   "metadata": {
    "pycharm": {
     "name": "#%% md\n"
    }
   },
   "source": [
    "# Workflow application\n",
    "\n",
    "When doing this preprocessing in an automated way for multiple files, the steps mentioned above can be contracted into a single function. Here are two functions that allow a quick and easy access to this conversion.\n",
    "\n",
    "- `report_pp_to_cp_imzml`: (file_path, output_path, coverage)\\\n",
    "This fuction directly cretes the coversion report and uses the generated mz values to write the continous profile file. It takes the following parameters:\n",
    "  - `file_path`: File path of input imzML file\n",
    "  - `output_path` *Optional Parameter*: If specified, the Report and imzML file are created as this path. Else, they are created to the same path of the input file \n",
    "  - `coverage`*Optional Parameter*: Uses a subsample accoding to the percentage provided. Defalus to 25% of the sample if ommitted.\n",
    "\n",
    "<br/>\n",
    "\n",
    "- `convert_pp_to_cp_imzml`: (file_path, output_path, pixel_nr)\\\n",
    "   This function converts the file, but does not test the conversion assuptions or creates a pdf report. It is meant for batch pocesses where a file is already tested.\n",
    "   - `file_path`: File path of input imzML file\n",
    "   - `output_path` *Optional Parameter*: If specified, the imzML file is created as this path. Else, it's created to the same path of the input file.\n",
    "   - `pixel_nr` *Optional Parameter*: The subsample is created with the specified number of pixels. Defaults to 100 if not specified otherwise.\n"
   ]
  },
  {
   "cell_type": "code",
   "execution_count": 19,
   "metadata": {
    "pycharm": {
     "name": "#%%\n"
    }
   },
   "outputs": [],
   "source": [
    "# examples for report_pp_to_cp_imzml\n",
    "\n",
    "file_path = r\"C:\\path\\to\\...\\file\\location\\...\\filename.imzML\"\n",
    "output_path = r\"C:\\path\\to\\...\\output\\file\\location\\...\\output_name\"\n",
    "\n",
    "coverage = 0.1\n",
    "\n",
    "#report_pp_to_cp_imzml(file_path,output_path, coverage)\n",
    "#report_pp_to_cp_imzml(file_path, coverage = 0.5)\n",
    "#report_pp_to_cp_imzml(file_path)"
   ]
  },
  {
   "cell_type": "code",
   "execution_count": 21,
   "metadata": {
    "pycharm": {
     "name": "#%%\n"
    }
   },
   "outputs": [],
   "source": [
    "# examples for convert_pp_to_cp_imzml\n",
    "\n",
    "file_path = r\"C:\\path\\to\\...\\file\\location\\...\\filename.imzML\"\n",
    "output_path = r\"C:\\path\\to\\...\\output\\file\\location\\...\\output_name\"\n",
    "\n",
    "#convert_pp_to_cp_imzml(file_path, output_path, pixel_nr = 150)\n",
    "#convert_pp_to_cp_imzml(file_path, output_path = r\"D:\\path\\to\\file\\testfile\")\n",
    "#convert_pp_to_cp_imzml(file_path)"
   ]
  },
  {
   "cell_type": "code",
   "execution_count": null,
   "metadata": {
    "pycharm": {
     "name": "#%%\n"
    }
   },
   "outputs": [],
   "source": []
  }
 ],
 "metadata": {
  "kernelspec": {
   "display_name": "Python 3 (ipykernel)",
   "language": "python",
   "name": "python3"
  },
  "language_info": {
   "codemirror_mode": {
    "name": "ipython",
    "version": 3
   },
   "file_extension": ".py",
   "mimetype": "text/x-python",
   "name": "python",
   "nbconvert_exporter": "python",
   "pygments_lexer": "ipython3",
   "version": "3.10.12"
  }
 },
 "nbformat": 4,
 "nbformat_minor": 4
}